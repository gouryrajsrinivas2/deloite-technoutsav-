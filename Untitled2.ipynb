{
 "cells": [
  {
   "cell_type": "code",
   "execution_count": 1,
   "metadata": {},
   "outputs": [
    {
     "name": "stdout",
     "output_type": "stream",
     "text": [
      "Score:  0.9987791230033574\n"
     ]
    }
   ],
   "source": [
    "from sklearn import datasets, model_selection as ms\n",
    "from sklearn.linear_model import LogisticRegression\n",
    "from sklearn.metrics import confusion_matrix\n",
    "from sklearn.neighbors import KNeighborsClassifier\n",
    "import pandas as pd\n",
    "import numpy as np\n",
    "import matplotlib.pyplot as plt\n",
    "\n",
    "\n",
    "def load_in_predictor_and_target_data(df, predictor_variable_list, target_variable_list):\n",
    "    predictor_data, target = [], []\n",
    "    for row in df[predictor_variable_list].values:\n",
    "        predictor_data.append(row)\n",
    "    for row in df[target_variable_list].values:\n",
    "        target.append(row[0])\n",
    "    return predictor_data, target\n",
    "\n",
    "\n",
    "allowable_transaction_types = ['TRANSFER', 'CASH_OUT']\n",
    "# only TRANSFER and CASH_OUT are ever fraud, so only take those points\n",
    "df = pd.read_csv(\"DEL1L.csv\")\n",
    "df = df.loc[df['type'].isin(allowable_transaction_types)]\n",
    "predictor_vars = ['amount', 'oldbalanceOrg', 'newbalanceOrig', 'oldbalanceDest', 'newbalanceDest']\n",
    "target_vars = ['isFraud']\n",
    "\n",
    "paysim_predictor_data, paysim_target = load_in_predictor_and_target_data(df, predictor_vars, target_vars)\n",
    "\n",
    "x_train, x_test, y_train, y_test = ms.train_test_split(paysim_predictor_data, paysim_target, test_size=0.25, random_state=None)\n",
    "logisticRegr = LogisticRegression()  # instance of the logistic regression model with all params as default\n",
    "fitted=logisticRegr.fit(x_train, y_train)  # train the model with 75% of our data\n",
    "\n",
    "# make predictions on the remaining 25% of the data\n",
    "predictions = logisticRegr.predict(x_test)\n",
    "score = logisticRegr.score(x_test, y_test)\n",
    "print('Score: ', score)\n",
    "\n"
   ]
  },
  {
   "cell_type": "code",
   "execution_count": 4,
   "metadata": {},
   "outputs": [],
   "source": [
    "f=\"srinivas\"\n",
    "op=open(f,'wb')\n",
    "import pickle\n",
    "pickle.dump(logisticRegr,op)\n",
    "op.close()"
   ]
  },
  {
   "cell_type": "code",
   "execution_count": null,
   "metadata": {},
   "outputs": [],
   "source": []
  }
 ],
 "metadata": {
  "kernelspec": {
   "display_name": "Python 3",
   "language": "python",
   "name": "python3"
  },
  "language_info": {
   "codemirror_mode": {
    "name": "ipython",
    "version": 3
   },
   "file_extension": ".py",
   "mimetype": "text/x-python",
   "name": "python",
   "nbconvert_exporter": "python",
   "pygments_lexer": "ipython3",
   "version": "3.6.5"
  }
 },
 "nbformat": 4,
 "nbformat_minor": 2
}
